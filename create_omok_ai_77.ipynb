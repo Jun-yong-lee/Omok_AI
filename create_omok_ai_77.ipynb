{
 "cells": [
  {
   "cell_type": "code",
   "execution_count": 1,
   "metadata": {},
   "outputs": [],
   "source": [
    "import tensorflow as tf\n",
    "gpu = tf.config.experimental.list_physical_devices('GPU') # 내 컴에 장착된 GPU를 list로 반환\n",
    "try:\n",
    "    tf.config.experimental.set_memory_growth(gpu[0], True) # GPU Memory Growth를 Enable\n",
    "except RuntimeError as e:\n",
    "    print(e) # Error 발생하면 Error 내용 출력"
   ]
  },
  {
   "cell_type": "code",
   "execution_count": 2,
   "metadata": {},
   "outputs": [
    {
     "name": "stdout",
     "output_type": "stream",
     "text": [
      "WARNING:tensorflow:From C:\\Users\\wnsdy\\AppData\\Local\\Temp\\ipykernel_1824\\2971426587.py:7: The name tf.keras.backend.set_session is deprecated. Please use tf.compat.v1.keras.backend.set_session instead.\n",
      "\n"
     ]
    }
   ],
   "source": [
    "config = tf.compat.v1.ConfigProto(gpu_options = \n",
    "                         tf.compat.v1.GPUOptions(per_process_gpu_memory_fraction=0.8)\n",
    "# device_count = {'GPU': 1}\n",
    ")\n",
    "config.gpu_options.allow_growth = True\n",
    "session = tf.compat.v1.Session(config=config)\n",
    "tf.compat.v1.keras.backend.set_session(session)"
   ]
  },
  {
   "cell_type": "code",
   "execution_count": 3,
   "metadata": {},
   "outputs": [],
   "source": [
    "import tensorflow.keras as keras\n",
    "from tensorflow.keras import layers, models\n",
    "import numpy as np\n",
    "from sklearn.model_selection import train_test_split\n",
    "from glob import glob\n",
    "import os\n",
    "from tqdm import tqdm\n",
    "from datetime import datetime\n",
    "from tensorflow.keras.callbacks import ModelCheckpoint, ReduceLROnPlateau, EarlyStopping\n",
    "from tensorflow.keras.utils import plot_model"
   ]
  },
  {
   "cell_type": "code",
   "execution_count": 4,
   "metadata": {},
   "outputs": [
    {
     "data": {
      "text/plain": [
       "'2.10.0'"
      ]
     },
     "execution_count": 4,
     "metadata": {},
     "output_type": "execute_result"
    }
   ],
   "source": [
    "tf.__version__"
   ]
  },
  {
   "cell_type": "code",
   "execution_count": 5,
   "metadata": {},
   "outputs": [
    {
     "data": {
      "text/plain": [
       "[name: \"/device:CPU:0\"\n",
       " device_type: \"CPU\"\n",
       " memory_limit: 268435456\n",
       " locality {\n",
       " }\n",
       " incarnation: 11394662218329947245\n",
       " xla_global_id: -1,\n",
       " name: \"/device:GPU:0\"\n",
       " device_type: \"GPU\"\n",
       " memory_limit: 3435554406\n",
       " locality {\n",
       "   bus_id: 1\n",
       "   links {\n",
       "   }\n",
       " }\n",
       " incarnation: 16487688138749288596\n",
       " physical_device_desc: \"device: 0, name: NVIDIA GeForce RTX 3050 Laptop GPU, pci bus id: 0000:01:00.0, compute capability: 8.6\"\n",
       " xla_global_id: 416903419]"
      ]
     },
     "execution_count": 5,
     "metadata": {},
     "output_type": "execute_result"
    }
   ],
   "source": [
    "from tensorflow.python.client import device_lib\n",
    "device_lib.list_local_devices()"
   ]
  },
  {
   "cell_type": "code",
   "execution_count": 6,
   "metadata": {},
   "outputs": [
    {
     "name": "stderr",
     "output_type": "stream",
     "text": [
      "  0%|          | 0/2544 [00:00<?, ?it/s]"
     ]
    },
    {
     "name": "stderr",
     "output_type": "stream",
     "text": [
      "100%|██████████| 2544/2544 [00:01<00:00, 1970.02it/s]\n"
     ]
    },
    {
     "name": "stdout",
     "output_type": "stream",
     "text": [
      "(46413, 7, 7, 1) (46413, 49)\n",
      "(6189, 7, 7, 1) (6189, 49)\n",
      "(9282, 7, 7, 1) (9282, 49)\n"
     ]
    }
   ],
   "source": [
    "w, h = 7, 7\n",
    "train_ratio = 0.75\n",
    "validation_ratio = 0.15\n",
    "test_ratio = 0.10\n",
    "\n",
    "file_list = glob('dataset_1515/dataset/*.npz')\n",
    "\n",
    "x_data, y_data = [], []\n",
    "for file_path in tqdm(file_list):\n",
    "    data = np.load(file_path)\n",
    "    x_data.extend(data['inputs'])\n",
    "    y_data.extend(data['outputs'])\n",
    "\n",
    "x_data = np.array(x_data, np.float32).reshape((-1, h, w, 1))\n",
    "y_data = np.array(y_data, np.float32).reshape((-1, h * w))\n",
    "\n",
    "x_train, x_test, y_train, y_test = train_test_split(x_data, y_data, test_size=1 - train_ratio, random_state=2394)\n",
    "x_val, x_test, y_val, y_test = train_test_split(x_test, y_test, test_size=test_ratio/(test_ratio + validation_ratio), random_state=2394) \n",
    "\n",
    "del x_data, y_data\n",
    "\n",
    "print(x_train.shape, y_train.shape)\n",
    "print(x_test.shape, y_test.shape)\n",
    "print(x_val.shape, y_val.shape)"
   ]
  },
  {
   "cell_type": "code",
   "execution_count": 7,
   "metadata": {},
   "outputs": [
    {
     "data": {
      "text/plain": [
       "49"
      ]
     },
     "execution_count": 7,
     "metadata": {},
     "output_type": "execute_result"
    }
   ],
   "source": [
    "len(y_train[0])"
   ]
  },
  {
   "cell_type": "code",
   "execution_count": 8,
   "metadata": {},
   "outputs": [
    {
     "data": {
      "image/png": "[encoded data removed]",
      "text/plain": [
       "<Figure size 1200x800 with 16 Axes>"
      ]
     },
     "metadata": {},
     "output_type": "display_data"
    }
   ],
   "source": [
    "import matplotlib.pyplot as plt\n",
    "count = 0\n",
    "plt.figure(figsize=(12,8))\n",
    "for n in range(8):\n",
    "    count += 1\n",
    "    plt.subplot(4, 4, count)\n",
    "    plt.imshow(x_test[n].reshape(7, 7), cmap='Greys', interpolation='nearest')\n",
    "    count += 1\n",
    "    plt.subplot(4, 4, count)\n",
    "    plt.imshow(y_test[n].reshape(7, 7), cmap='Greys', interpolation='nearest')\n",
    "\n",
    "plt.tight_layout()\n",
    "plt.show()"
   ]
  },
  {
   "cell_type": "code",
   "execution_count": 9,
   "metadata": {},
   "outputs": [
    {
     "name": "stdout",
     "output_type": "stream",
     "text": [
      "Model: \"sequential\"\n",
      "_________________________________________________________________\n",
      " Layer (type)                Output Shape              Param #   \n",
      "=================================================================\n",
      " conv2d (Conv2D)             (None, 7, 7, 8)           80        \n",
      "                                                                 \n",
      " conv2d_1 (Conv2D)           (None, 7, 7, 16)          1168      \n",
      "                                                                 \n",
      " conv2d_2 (Conv2D)           (None, 7, 7, 32)          4640      \n",
      "                                                                 \n",
      " dropout (Dropout)           (None, 7, 7, 32)          0         \n",
      "                                                                 \n",
      " conv2d_3 (Conv2D)           (None, 7, 7, 64)          18496     \n",
      "                                                                 \n",
      " conv2d_4 (Conv2D)           (None, 7, 7, 128)         73856     \n",
      "                                                                 \n",
      " conv2d_5 (Conv2D)           (None, 7, 7, 64)          73792     \n",
      "                                                                 \n",
      " conv2d_6 (Conv2D)           (None, 7, 7, 32)          18464     \n",
      "                                                                 \n",
      " conv2d_7 (Conv2D)           (None, 7, 7, 16)          4624      \n",
      "                                                                 \n",
      " conv2d_8 (Conv2D)           (None, 7, 7, 8)           1160      \n",
      "                                                                 \n",
      " conv2d_9 (Conv2D)           (None, 7, 7, 4)           292       \n",
      "                                                                 \n",
      " conv2d_10 (Conv2D)          (None, 7, 7, 1)           5         \n",
      "                                                                 \n",
      " flatten (Flatten)           (None, 49)                0         \n",
      "                                                                 \n",
      " dense (Dense)               (None, 1000)              50000     \n",
      "                                                                 \n",
      " dropout_1 (Dropout)         (None, 1000)              0         \n",
      "                                                                 \n",
      " dense_1 (Dense)             (None, 49)                49049     \n",
      "                                                                 \n",
      "=================================================================\n",
      "Total params: 295,626\n",
      "Trainable params: 295,626\n",
      "Non-trainable params: 0\n",
      "_________________________________________________________________\n"
     ]
    }
   ],
   "source": [
    "model = models.Sequential([\n",
    "    layers.Conv2D(8, kernel_size=3, activation='relu', padding='same', input_shape=(h, w, 1)),\n",
    "    layers.Conv2D(16, kernel_size=3, activation='relu', padding='same'),\n",
    "    layers.Conv2D(32, kernel_size=3, activation='relu', padding='same'),\n",
    "    layers.Dropout(0.1),\n",
    "\n",
    "    layers.Conv2D(64, kernel_size=3, activation='relu', padding='same'),\n",
    "    layers.Conv2D(128, kernel_size=3, activation='relu', padding='same'),\n",
    "    layers.Conv2D(64, kernel_size=3, activation='relu', padding='same'),\n",
    "    layers.Conv2D(32, kernel_size=3, activation='relu', padding='same'),\n",
    "    layers.Conv2D(16, kernel_size=3, activation='relu', padding='same'),\n",
    "    layers.Conv2D(8, kernel_size=3, activation='relu', padding='same'),\n",
    "    layers.Conv2D(4, kernel_size=3, activation='relu', padding='same'),\n",
    "    layers.Conv2D(1, 1, activation=None, padding='same'),\n",
    "\n",
    "    layers.Flatten(),\n",
    "    layers.Dense(1000, activation='relu'),\n",
    "    layers.Dropout(0.1),\n",
    "#     layers.Dense(1000, activation='relu'),\n",
    "    layers.Dense(49),\n",
    "    ])\n",
    "\n",
    "model.compile(\n",
    "    optimizer='adam',\n",
    "    loss='binary_crossentropy',# binary_crossentropy, sparse_categorical_crossentropy\n",
    "    metrics=['accuracy']\n",
    ")\n",
    "\n",
    "model.summary()"
   ]
  },
  {
   "cell_type": "code",
   "execution_count": 10,
   "metadata": {},
   "outputs": [
    {
     "name": "stdout",
     "output_type": "stream",
     "text": [
      "Epoch 1/10\n"
     ]
    },
    {
     "ename": "",
     "evalue": "",
     "output_type": "error",
     "traceback": [
      "\u001b[1;31mThe Kernel crashed while executing code in the the current cell or a previous cell. Please review the code in the cell(s) to identify a possible cause of the failure. Click <a href='https://aka.ms/vscodeJupyterKernelCrash'>here</a> for more info. View Jupyter <a href='command:jupyter.viewOutput'>log</a> for further details."
     ]
    }
   ],
   "source": [
    "start_time = datetime.now().strftime('%Y%m%d_%H%M%S')\n",
    "os.makedirs('models', exist_ok=True)\n",
    "\n",
    "history = model.fit(\n",
    "    x=x_train,\n",
    "    y=y_train,\n",
    "    batch_size=8,\n",
    "    epochs=10,\n",
    "    shuffle=True,\n",
    "    callbacks=[\n",
    "        ModelCheckpoint('./models/%s.h5' % (start_time), monitor='val_accuracy', verbose=1, save_best_only=True, mode='max'),\n",
    "        ReduceLROnPlateau(monitor='val_accuracy', factor=0.2, patience=5, verbose=1, mode='auto'),\n",
    "        EarlyStopping(monitor='val_accuracy', patience=5)\n",
    "    ],\n",
    "    validation_data=(x_val, y_val),\n",
    "    use_multiprocessing=True,\n",
    "    workers=16\n",
    ")"
   ]
  }
 ],
 "metadata": {
  "kernelspec": {
   "display_name": "DS30",
   "language": "python",
   "name": "python3"
  },
  "language_info": {
   "codemirror_mode": {
    "name": "ipython",
    "version": 3
   },
   "file_extension": ".py",
   "mimetype": "text/x-python",
   "name": "python",
   "nbconvert_exporter": "python",
   "pygments_lexer": "ipython3",
   "version": "3.9.0"
  }
 },
 "nbformat": 4,
 "nbformat_minor": 2
}
